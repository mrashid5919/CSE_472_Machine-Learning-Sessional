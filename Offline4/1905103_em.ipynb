{
 "cells": [
  {
   "cell_type": "code",
   "execution_count": 29,
   "metadata": {},
   "outputs": [],
   "source": [
    "import numpy as np"
   ]
  },
  {
   "cell_type": "code",
   "execution_count": 30,
   "metadata": {},
   "outputs": [],
   "source": [
    "data = np.loadtxt('em_data.txt')"
   ]
  },
  {
   "cell_type": "code",
   "execution_count": 31,
   "metadata": {},
   "outputs": [],
   "source": [
    "np.random.seed(42)\n",
    "pi_1, pi_2 = 0.5, 0.5\n",
    "lambda_1, lambda_2 = np.random.uniform(1, 5, size=2)"
   ]
  },
  {
   "cell_type": "code",
   "execution_count": 32,
   "metadata": {},
   "outputs": [],
   "source": [
    "from scipy.special import factorial\n",
    "\n",
    "def poisson_pmf(x, lambda_):\n",
    "    return (lambda_ ** x * np.exp(-lambda_)) / factorial(x)\n"
   ]
  },
  {
   "cell_type": "code",
   "execution_count": 33,
   "metadata": {},
   "outputs": [],
   "source": [
    "# EM Algorithm\n",
    "max_iter = 100\n",
    "tolerance = 1e-6\n",
    "log_likelihoods = []"
   ]
  },
  {
   "cell_type": "code",
   "execution_count": 34,
   "metadata": {},
   "outputs": [],
   "source": [
    "for i in range(max_iter):\n",
    "    # E-step: Compute responsibilities\n",
    "    gamma_1 = pi_1 * poisson_pmf(data, lambda_1)\n",
    "    gamma_2 = pi_2 * poisson_pmf(data, lambda_2)\n",
    "    gamma_sum = gamma_1 + gamma_2\n",
    "    r_1 = gamma_1 / gamma_sum\n",
    "    r_2 = gamma_2 / gamma_sum\n",
    "    \n",
    "    # M-step: Update parameters\n",
    "    pi_1_new = np.mean(r_1)\n",
    "    pi_2_new = np.mean(r_2)\n",
    "    lambda_1_new = np.sum(r_1 * data) / np.sum(r_1)\n",
    "    lambda_2_new = np.sum(r_2 * data) / np.sum(r_2)\n",
    "    \n",
    "    # Check convergence\n",
    "    log_likelihood = np.sum(np.log(gamma_sum))\n",
    "    log_likelihoods.append(log_likelihood)\n",
    "    \n",
    "    if len(log_likelihoods) > 1 and abs(log_likelihood - log_likelihoods[-2]) < tolerance:\n",
    "        print(f'Converged after {i} iterations')\n",
    "        break\n",
    "\n",
    "    pi_1, pi_2 = pi_1_new, pi_2_new\n",
    "    lambda_1, lambda_2 = lambda_1_new, lambda_2_new"
   ]
  },
  {
   "cell_type": "code",
   "execution_count": 35,
   "metadata": {},
   "outputs": [
    {
     "name": "stdout",
     "output_type": "stream",
     "text": [
      "No. of children in families with family planning: 1.7845414004285118\n",
      "No. of children in families without family planning: 4.912528426580311\n",
      "Proportion of families with family planning: 0.3566282140091506\n",
      "Proportion of families without family planning: 0.6433717859908494\n"
     ]
    }
   ],
   "source": [
    "print(f\"No. of children in families with family planning: {lambda_1}\")\n",
    "print(f\"No. of children in families without family planning: {lambda_2}\")\n",
    "print(f\"Proportion of families with family planning: {pi_1}\")\n",
    "print(f\"Proportion of families without family planning: {pi_2}\")"
   ]
  }
 ],
 "metadata": {
  "kernelspec": {
   "display_name": "Python 3",
   "language": "python",
   "name": "python3"
  },
  "language_info": {
   "codemirror_mode": {
    "name": "ipython",
    "version": 3
   },
   "file_extension": ".py",
   "mimetype": "text/x-python",
   "name": "python",
   "nbconvert_exporter": "python",
   "pygments_lexer": "ipython3",
   "version": "3.10.5"
  }
 },
 "nbformat": 4,
 "nbformat_minor": 2
}
